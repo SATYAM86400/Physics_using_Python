{
 "cells": [
  {
   "cell_type": "markdown",
   "metadata": {},
   "source": [
    "# Welcome to Physics Programming!!\n",
    "\n",
    "This is a **Physics Programming** tutorials for the <b><i>Physics lovers</i></b>.\n",
    "\n",
    "----------------------------------------------------------------------------------------------------------\n",
    "----------------------------------------------------------------------------------------------------------\n",
    "\n",
    "<br>\n",
    "\n",
    "*Problem 1 :* \n",
    "\n",
    "#### A ball is dropped from a tower\n",
    "\n",
    "The problem is as follows. A ball is dropped from a tower of height **h**. It has\n",
    "initial velocity **zero** and accelerates downwards under **gravity**. The challenge\n",
    "is to write a program that asks the user to enter the height in meters of the\n",
    "tower and a time interval **t** in seconds, then prints on the screen the height of\n",
    "the ball above the ground at time t after it is dropped, ignoring air resistance.\n",
    "\n",
    "The steps involved are the following. First, we will use input statements\n",
    "to get the values of h and t from the user. Second, we will calculate how far\n",
    "the ball falls in the given time, using the standard kinematic formula **s = 1/2 gt<sup>2</sup>**,\n",
    "where **g = 9.81 ms<sup>-2</sup>** is the acceleration due to gravity. Third, we print the\n",
    "height above the ground at time t, which is equal to the total height of the\n",
    "tower minus this value, or h − s.\n",
    "\n",
    "Formulas used: \n",
    "\n",
    "$$Derivation$$\n",
    "\n",
    "$$ a = g = 9.81{m/s^2}$$\n",
    "\n",
    "$$ s = ut + {1\\over2}at^2 $$\n",
    "\n",
    "$$ s = ut + {1\\over2}gt^2 $$\n",
    "\n",
    "$$ s = {1\\over2}gt^2 $$"
   ]
  },
  {
   "cell_type": "code",
   "execution_count": 9,
   "metadata": {},
   "outputs": [
    {
     "name": "stdout",
     "output_type": "stream",
     "text": [
      "Enter the height of the tower : 100\n",
      "Enter the time interval : 2\n",
      "19.62\n",
      "The height of the ball is :  80.38 m\n"
     ]
    }
   ],
   "source": [
    "h = float(input(\"Enter the height of the tower : \"))\n",
    "t = float(input(\"Enter the time interval : \"))\n",
    "s = (9.81*t**2)/2\n",
    "print(s)\n",
    "print(\"The height of the ball is : \",h - s,\"m\")"
   ]
  },
  {
   "cell_type": "markdown",
   "metadata": {},
   "source": [
    "*Problem 2 : *\n",
    "\n",
    "A ball is again dropped from a tower of height h with initial velocity zero. Write a\n",
    "program that asks the user to enter the height in meters of the tower and then calculates\n",
    "and prints the time the ball takes until it hits the ground, ignoring air resistance. Use\n",
    "your program to calculate the time for a ball dropped from a 100 m high tower.\n",
    " \n",
    "Formulas used : \n",
    "\n",
    "$$ Value $$\n",
    "\n",
    "$$ a = g = 9.81{m/s^2} $$\n",
    "\n",
    "$$ Motion formula $$\n",
    "\n",
    "$$ v^2 = u^2 + 2as $$\n",
    "$$ v = u + at $$\n",
    "\n",
    "$$Converting$$\n",
    "\n",
    "$$ v^2 = u^2 + 2gs $$\n",
    "$$ v^2 = 2gs $$\n",
    "\n",
    "$$ v = gt$$\n"
   ]
  },
  {
   "cell_type": "code",
   "execution_count": 17,
   "metadata": {},
   "outputs": [
    {
     "name": "stdout",
     "output_type": "stream",
     "text": [
      "Enter the height of the tower : 100\n",
      "The time taken to fall :  4.515236409857309 s\n"
     ]
    }
   ],
   "source": [
    "import math\n",
    "h = float(input(\"Enter the height of the tower : \"))\n",
    "temp = 2*9.81*h\n",
    "temp = math.sqrt(temp)\n",
    "v = temp\n",
    "# print(v)\n",
    "t = v/9.81\n",
    "print(\"The time taken to fall : \",t,\"s\")"
   ]
  },
  {
   "cell_type": "markdown",
   "metadata": {},
   "source": [
    "### The **math** function \n",
    "\n",
    "<br>\n",
    "<br>\n",
    "There are many operations one might want to perform in a program that are\n",
    "more complicated than simple arithmetic, such as multiplying matrices, calcu-\n",
    "lating a logarithm, or making a graph. Python comes with facilities for doing\n",
    "each of these and many other common tasks easily and quickly. These facil-\n",
    "ities are divided into packages—collections of related useful things—and each\n",
    "package has a name by which you can refer to it. For instance, all the standard\n",
    "mathematical functions, such as logarithm and square root, are contained in a\n",
    "package called math. Before you can use any of these functions you have to tell\n",
    "the computer that you want to. For example, to tell the computer you want to\n",
    "use the log function, you would add the following line to your program:"
   ]
  },
  {
   "cell_type": "code",
   "execution_count": 18,
   "metadata": {},
   "outputs": [],
   "source": [
    "from math import log"
   ]
  },
  {
   "cell_type": "code",
   "execution_count": 20,
   "metadata": {},
   "outputs": [
    {
     "name": "stdout",
     "output_type": "stream",
     "text": [
      "0.9162907318741551\n"
     ]
    }
   ],
   "source": [
    "x = log(2.5)\n",
    "print(x)"
   ]
  },
  {
   "cell_type": "markdown",
   "metadata": {},
   "source": [
    "*Problem 3 :*\n",
    "\n",
    "\n",
    "### Converting Polar Coordinates\n",
    "\n",
    "Suppose the position of a point in two-dimensional space is given to us in polar\n",
    "coordinates r, θ and we want to convert it to Cartesian coordinates x, y. How\n",
    "would we write a program to do this? The appropriate steps are:\n",
    "1. Get the user to enter the values of r and θ.\n",
    "\n",
    "2. Convert those values to Cartesian coordinates using the standard formulas:\n",
    "\n",
    "    x = r cos θ\n",
    "    y = r sin θ\n",
    "<br>\n",
    "\n",
    "3. Print out the results.\n",
    "\n",
    "Since the formulas involve the mathematical functions sin and cos we are\n",
    "going to have to import those functions from the math package at the start of\n",
    "the program. Also, the sine and cosine functions in Python (and in most other\n",
    "computer languages) take arguments in radians. If we want to be able to enter\n",
    "the angle θ in degrees then we are going to have to convert from degrees to\n",
    "radians, which means multiplying by π and dividing by 180.\n",
    "Thus our program might look something like this:"
   ]
  },
  {
   "cell_type": "code",
   "execution_count": 26,
   "metadata": {},
   "outputs": [
    {
     "name": "stdout",
     "output_type": "stream",
     "text": [
      "Enter r: 4\n",
      "Enter theta in degrees: 60\n",
      "\n",
      "\n",
      "X =  2.0000000000000004\n",
      "Y =  3.4641016151377544\n"
     ]
    }
   ],
   "source": [
    "from math import sin,cos,pi\n",
    "\n",
    "# Ask the user for the values of r and theta\n",
    "r = float(input(\"Enter r: \"))\n",
    "d = float(input(\"Enter theta in degrees: \"))\n",
    "\n",
    "# Convert the angle to radians\n",
    "theta = d*pi/180\n",
    "\n",
    "# Calculate the equivalent Cartesian coordinates\n",
    "x = r*cos(theta)\n",
    "y = r*sin(theta)\n",
    "\n",
    "# Print out the results\n",
    "print(\"\\n\")\n",
    "print(\"X = \",x,)\n",
    "print(\"Y = \",y)"
   ]
  },
  {
   "cell_type": "markdown",
   "metadata": {},
   "source": [
    "## ARRAYS\n",
    "\n",
    "As we have seen, a list in Python is an ordered set of values, such as a set of\n",
    "integers or a set of floats. There is another object in Python that is somewhat\n",
    "similar, an array. An array is also an ordered set of values, but there are some\n",
    "important differences between lists and arrays:\n",
    "\n",
    "1. The number of elements in an array is fixed. You cannot add elements to an array once it is created, or remove them.\n",
    " \n",
    "\n",
    "2. The elements of an array must all be of the same type, such as all floats or all integers. You cannot mix elements of different types in the same array and you cannot change the type of the elements once an array is created.\n",
    "\n",
    "Lists, as we have seen, have neither of these restrictions and, on the face of\n",
    "it, these seem like significant drawbacks of the array. Why would we ever\n",
    "use an array if lists are more flexible? The answer is that arrays have several\n",
    "significant advantages over lists as well:\n",
    "\n",
    "3. Arrays can be two-dimensional, like matrices in algebra. That is, rather than just a one-dimensional row of elements, we can have a grid of them. Indeed, arrays can in principle have any number of dimensions, including three or more, although we won’t use dimensions above two in this book. Lists, by contrast, are always just one-dimensional.\n",
    "\n",
    "\n",
    "4. Arrays behave roughly like vectors or matrices: you can do arithmetic with them, such as adding them together, and you will get the result you expect. This is not true with lists. If you try to do arithmetic with a list you will either get an error message, or you will not get the result you expect.\n",
    "\n",
    "\n",
    "5. Arrays work faster than lists. Especially if you have a very large array with many elements then calculations may be significantly faster using an array.\n",
    "\n",
    "\n",
    "In physics it often happens that we are working with a fixed number of elements all of the same type, as when we are working with matrices or vectors,for instance. In that case, arrays are clearly the tool of choice: the fact that we cannot add or remove elements is immaterial if we never need to do such a thing, and the superior speed of arrays and their flexibility in other respects can make a significant difference to our programs. We will use arrays extensively in this book—far more than we will use lists.\n",
    "\n",
    "Before you use an array you need to create it, meaning you need to tell the\n",
    "computer how many elements it will have and of what type. Python provides\n",
    "functions that allow you do this in several different ways. These functions are\n",
    "all found in the package numpy.\n",
    "\n",
    "In the simplest case, we can create a one-dimensional array with n elements, all of which are initially equal to zero, using the function zeros fromthe numpy package. The function takes two arguments. The first is the number\n",
    "of elements the array is to have and the second is the type of the elements,\n",
    "such as int, float, or complex. For instance, to create a new array with four\n",
    "floating-point elements we would do the following:\n"
   ]
  },
  {
   "cell_type": "code",
   "execution_count": 27,
   "metadata": {},
   "outputs": [
    {
     "name": "stdout",
     "output_type": "stream",
     "text": [
      "[0. 0. 0. 0.]\n"
     ]
    }
   ],
   "source": [
    "from numpy import zeros\n",
    "a = zeros(4,float)\n",
    "print(a)"
   ]
  },
  {
   "cell_type": "markdown",
   "metadata": {},
   "source": [
    "To create a two-dimensional floating-point array with m rows and n columns, “zeros([m,n],float)”, so"
   ]
  },
  {
   "cell_type": "code",
   "execution_count": 29,
   "metadata": {},
   "outputs": [
    {
     "name": "stdout",
     "output_type": "stream",
     "text": [
      "[[0. 0. 0. 0.]\n",
      " [0. 0. 0. 0.]\n",
      " [0. 0. 0. 0.]]\n"
     ]
    }
   ],
   "source": [
    "a = zeros([3,4],float)\n",
    "print(a)"
   ]
  },
  {
   "cell_type": "markdown",
   "metadata": {},
   "source": [
    "#### Reading an array from file"
   ]
  },
  {
   "cell_type": "code",
   "execution_count": 31,
   "metadata": {},
   "outputs": [
    {
     "name": "stdout",
     "output_type": "stream",
     "text": [
      "[1. 2. 0. 3. 4. 5. 6. 7. 8. 9.]\n"
     ]
    }
   ],
   "source": [
    "from numpy import loadtxt\n",
    "a = loadtxt('values.txt', float)\n",
    "print(a)"
   ]
  },
  {
   "cell_type": "code",
   "execution_count": 33,
   "metadata": {},
   "outputs": [
    {
     "name": "stdout",
     "output_type": "stream",
     "text": [
      "6\n",
      "(2, 3)\n"
     ]
    }
   ],
   "source": [
    "a = array([[1,2,3],[4,5,6]], int)\n",
    "print(a.size)\n",
    "print(a.shape)"
   ]
  },
  {
   "cell_type": "code",
   "execution_count": 34,
   "metadata": {},
   "outputs": [
    {
     "name": "stdout",
     "output_type": "stream",
     "text": [
      "4.5\n"
     ]
    }
   ],
   "source": [
    "values = loadtxt('values.txt', float)\n",
    "mean = sum(values)/len(values)\n",
    "print(mean)"
   ]
  }
 ],
 "metadata": {
  "kernelspec": {
   "display_name": "Python 3",
   "language": "python",
   "name": "python3"
  },
  "language_info": {
   "codemirror_mode": {
    "name": "ipython",
    "version": 3
   },
   "file_extension": ".py",
   "mimetype": "text/x-python",
   "name": "python",
   "nbconvert_exporter": "python",
   "pygments_lexer": "ipython3",
   "version": "3.7.4"
  }
 },
 "nbformat": 4,
 "nbformat_minor": 4
}
